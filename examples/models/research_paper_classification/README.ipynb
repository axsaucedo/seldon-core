{
 "cells": [
  {
   "cell_type": "markdown",
   "metadata": {},
   "source": [
    "# Deployment & Explainability of Machine Learning COVID-19 Solutions at Scale with Seldon Core and Alibi\n",
    "\n",
    "![](https://raw.githubusercontent.com/axsaucedo/seldon-core/corona_research_exploration/examples/models/research_paper_classification/diagram.jpg)\n",
    "\n",
    "There has been great momentum from the machine learning community to extract insights from the increasingly growing COVID-19 Datasets, such as the Allen Institute for AI [Open Research Dataset](https://www.kaggle.com/allen-institute-for-ai/CORD-19-research-challenge) as well as the data repository by [Johns Hopkins CSSE](https://github.com/CSSEGISandData/COVID-19).\n",
    "\n",
    "We believe the most powerful insights can be brought through cross-functional collaboration, such as between infectious disease experts and machine learning practitioners. \n",
    "\n",
    "More importantly, once powerful predictive and explanatory models are built, it is especially important to be able to deploy and enable access to these models at scale to power solutions that can solve real-life challenges.\n",
    "\n",
    "In this small tutorial we will show how you can deploy your machine learning solutions at scale, and we will use a practical example. For this we will be building a simple text classifier using the Allen Institute for AI COVID-19 Open Research Dataset which has been open sourced with over 44,000 scholarly articles on COVID-19, together with the [Arxiv Metadata Research Dataset](https://www.kaggle.com/tayorm/arxiv-papers-metadata) which contains over 1.5M papers.\n",
    "\n",
    "In this tutorial we will focus primarily around the techniques to productionise an already trained model, and we will showcase how you're able to leverage the Seldon Core Prepackaged Model Servers, the Python Language Wrapper, and some of our AI Explainability infrastructure tools.\n",
    "\n",
    "![](https://raw.githubusercontent.com/SeldonIO/seldon-core/master/doc/source/images/seldon-core-high-level.jpg)\n",
    "\n",
    "## Tutorial Overview\n",
    "\n",
    "The steps that we will be following in this tutorial include\n",
    "\n",
    "1) Train and build a simple NLP model with SKLearn and SpaCy\n",
    "\n",
    "2) Explain your model predictions using Alibi Explain\n",
    "\n",
    "3) Containerize your model using Seldon Core Language Wrappers \n",
    "\n",
    "4) Deploy your model to Kubernetes\n",
    "\n",
    "5) Test your deployed model by sending requests\n",
    "\n",
    "6) Deploy our standard Alibi TextExplainer \n",
    "\n",
    "7) Test your deployed explainer by sending requests\n",
    "\n",
    "\n",
    "### Before you start\n",
    "Make sure you install the following dependencies, as they are critical for this example to work:\n",
    "\n",
    "* Seldon Core v1.1+ installed with Istio Ingress Enabled ([Documentation Instructions](https://docs.seldon.io/projects/seldon-core/en/latest/workflow/install.html#ingress-support))\n",
    "* A Kubernetes Cluster with all dependencies specified in the Seldon Core page\n",
    "\n",
    "Let's get started! 🚀🔥"
   ]
  },
  {
   "cell_type": "markdown",
   "metadata": {},
   "source": [
    "## 0) Prepare your development environment\n",
    "\n",
    "First we want to install all the dependencies. \n",
    "\n",
    "These are all going to be in our `requirements-dev.txt` file."
   ]
  },
  {
   "cell_type": "code",
   "execution_count": 1,
   "metadata": {},
   "outputs": [
    {
     "name": "stdout",
     "output_type": "stream",
     "text": [
      "Overwriting requirements-dev.txt\n"
     ]
    }
   ],
   "source": [
    "%%writefile requirements-dev.txt\n",
    "scipy>= 0.13.3\n",
    "scikit-learn>=0.18\n",
    "spacy==2.0.18\n",
    "dill==0.2.9\n",
    "xai==0.0.5\n",
    "alibi==0.4.0"
   ]
  },
  {
   "cell_type": "markdown",
   "metadata": {},
   "source": [
    "We can then use pip to install the requirements above:"
   ]
  },
  {
   "cell_type": "code",
   "execution_count": 2,
   "metadata": {
    "scrolled": true
   },
   "outputs": [
    {
     "name": "stdout",
     "output_type": "stream",
     "text": [
      "      Successfully uninstalled matplotlib-3.1.3\n",
      "  Found existing installation: wrapt 1.12.1\n",
      "    Uninstalling wrapt-1.12.1:\n",
      "      Successfully uninstalled wrapt-1.12.1\n",
      "Successfully installed alibi-0.4.0 matplotlib-3.0.2 wrapt-1.10.11\n"
     ]
    }
   ],
   "source": [
    "# Let's first install any dependencies\n",
    "!pip install -r requirements-dev.txt"
   ]
  },
  {
   "cell_type": "markdown",
   "metadata": {},
   "source": [
    "Now that everything is installed, we can import all our dependencies."
   ]
  },
  {
   "cell_type": "code",
   "execution_count": 114,
   "metadata": {},
   "outputs": [],
   "source": [
    "import pandas as pd \n",
    "from sklearn.model_selection import train_test_split\n",
    "import numpy as np\n",
    "from sklearn.feature_extraction.text import TfidfVectorizer\n",
    "from sklearn.linear_model import LogisticRegression\n",
    "from seldon_core.seldon_client import SeldonClient\n",
    "import dill\n",
    "import sys, os\n",
    "import xai\n",
    "\n",
    "pd.set_option(\"display.notebook_repr_html\", False)"
   ]
  },
  {
   "cell_type": "markdown",
   "metadata": {},
   "source": [
    "### Let's download the SpaCy English Model"
   ]
  },
  {
   "cell_type": "code",
   "execution_count": 2,
   "metadata": {},
   "outputs": [
    {
     "name": "stdout",
     "output_type": "stream",
     "text": [
      "\n",
      "\u001b[93m    Linking successful\u001b[0m\n",
      "    /home/alejandro/miniconda3/lib/python3.7/site-packages/en_core_web_sm\n",
      "    -->\n",
      "    /home/alejandro/miniconda3/lib/python3.7/site-packages/spacy/data/en_core_web_sm\n",
      "\n",
      "    You can now load the model via spacy.load('en_core_web_sm')\n",
      "\n"
     ]
    }
   ],
   "source": [
    "from spacy.cli import download\n",
    "\n",
    "download(\"en_core_web_sm\")"
   ]
  },
  {
   "cell_type": "markdown",
   "metadata": {},
   "source": [
    "## 1) Train and build your NLP model with SKLearn and SpaCy\n",
    "\n",
    "We can now get started with the training of our model. \n",
    "\n",
    "For this tutorial we are going to focus primarily on the productionisation of the model, so we will use a significantly smaller dataset.\n",
    "\n",
    "More specifically we selected randomly 2000 abstracts from the COVID-19 Open Research Dataset, and 2000 abstracts from the [Arxiv Papers Metadata Dataset](https://www.kaggle.com/tayorm/arxiv-papers-metadata) to compare against to provide a (very simplified) example of an NLP classification model."
   ]
  },
  {
   "cell_type": "code",
   "execution_count": 45,
   "metadata": {},
   "outputs": [],
   "source": [
    "df = pd.read_csv(\"https://raw.githubusercontent.com/axsaucedo/datasets/master/data/research_paper_abstracts.csv\")"
   ]
  },
  {
   "cell_type": "markdown",
   "metadata": {},
   "source": [
    "This dataset contains 4000 abstracts randomly picked from the datasets mentioned in the introduction, 2000 COVID-19 related and 2000 nonCOVID19 related"
   ]
  },
  {
   "cell_type": "code",
   "execution_count": 115,
   "metadata": {},
   "outputs": [
    {
     "data": {
      "text/plain": [
       "                                               abstract  is_covid\n",
       "3995  This article summarizes current knowledge abou...         1\n",
       "3996  While epidemiological models have traditionall...         1\n",
       "3997  TGEV and PEDV are porcine coronaviruses with t...         1\n",
       "3998  Metagenomics, i.e., the sequencing and analysi...         1\n",
       "3999  Population genetic diversity plays a prominent...         1"
      ]
     },
     "execution_count": 115,
     "metadata": {},
     "output_type": "execute_result"
    }
   ],
   "source": [
    "df.tail()"
   ]
  },
  {
   "cell_type": "markdown",
   "metadata": {},
   "source": [
    "We can see that we have a distributed set of examples to train and test our model"
   ]
  },
  {
   "cell_type": "code",
   "execution_count": 5,
   "metadata": {},
   "outputs": [
    {
     "data": {
      "text/plain": [
       "<matplotlib.axes._subplots.AxesSubplot at 0x7f9ba3581910>"
      ]
     },
     "execution_count": 5,
     "metadata": {},
     "output_type": "execute_result"
    },
    {
     "data": {
      "image/png": "[encoded data removed]",
      "text/plain": [
       "<Figure size 432x288 with 1 Axes>"
      ]
     },
     "metadata": {
      "needs_background": "light"
     },
     "output_type": "display_data"
    }
   ],
   "source": [
    "# Let's see how many examples we have of each class\n",
    "df[\"is_covid\"].value_counts().plot.bar()"
   ]
  },
  {
   "cell_type": "markdown",
   "metadata": {},
   "source": [
    "### Split our train test dataset\n",
    "\n",
    "We first start by splitting our train and test dataset, making sure we have an even breakdown of examples for train test"
   ]
  },
  {
   "cell_type": "code",
   "execution_count": 6,
   "metadata": {},
   "outputs": [],
   "source": [
    "x = df[\"abstract\"].values\n",
    "y = df[\"is_covid\"].values\n",
    "x_train, x_test, y_train, y_test = train_test_split(\n",
    "    x, y, \n",
    "    stratify=y, \n",
    "    random_state=42, \n",
    "    test_size=0.1, shuffle=True)"
   ]
  },
  {
   "cell_type": "markdown",
   "metadata": {},
   "source": [
    "### Train our model: Clean Text\n",
    "As the first step for our model we'll first clean the incoming text data for any less meaningful characters and symbols\n",
    "\n",
    "For this, we have created a CleanTextTransformer class that will be doing the text pre-processing"
   ]
  },
  {
   "cell_type": "code",
   "execution_count": 7,
   "metadata": {},
   "outputs": [
    {
     "name": "stdout",
     "output_type": "stream",
     "text": [
      "\n",
      "\u001b[93m    Linking successful\u001b[0m\n",
      "    /home/alejandro/miniconda3/lib/python3.7/site-packages/en_core_web_sm\n",
      "    -->\n",
      "    /home/alejandro/miniconda3/lib/python3.7/site-packages/spacy/data/en_core_web_sm\n",
      "\n",
      "    You can now load the model via spacy.load('en_core_web_sm')\n",
      "\n"
     ]
    }
   ],
   "source": [
    "from ml_utils import CleanTextTransformer"
   ]
  },
  {
   "cell_type": "code",
   "execution_count": 8,
   "metadata": {},
   "outputs": [],
   "source": [
    "# Clean the text\n",
    "clean_text_transformer = CleanTextTransformer()\n",
    "x_train_clean = clean_text_transformer.transform(x_train)"
   ]
  },
  {
   "cell_type": "markdown",
   "metadata": {},
   "source": [
    "### Train our model: Tokenize\n",
    "We now convert our input text into tokens - for this we use the SpaCy module."
   ]
  },
  {
   "cell_type": "code",
   "execution_count": 9,
   "metadata": {},
   "outputs": [],
   "source": [
    "from ml_utils import SpacyTokenTransformer"
   ]
  },
  {
   "cell_type": "code",
   "execution_count": 10,
   "metadata": {},
   "outputs": [],
   "source": [
    "# Tokenize the text and get the lemmas\n",
    "spacy_tokenizer = SpacyTokenTransformer()\n",
    "x_train_tokenized = spacy_tokenizer.transform(x_train_clean)"
   ]
  },
  {
   "cell_type": "markdown",
   "metadata": {},
   "source": [
    "### Train our model: Vectorize\n",
    "\n",
    "Now we have to convert our tokens into input our model can read, so we convert our tokens into vector using our TFIDF vectorizer."
   ]
  },
  {
   "cell_type": "code",
   "execution_count": 11,
   "metadata": {},
   "outputs": [
    {
     "data": {
      "text/plain": [
       "TfidfVectorizer(analyzer='word', binary=False, decode_error='strict',\n",
       "        dtype=<class 'numpy.float64'>, encoding='utf-8', input='content',\n",
       "        lowercase=True, max_df=1.0, max_features=10000, min_df=1,\n",
       "        ngram_range=(1, 3), norm='l2',\n",
       "        preprocessor=<function <lambda> at 0x7f9c0ddce5f0>,\n",
       "        smooth_idf=True, stop_words=None, strip_accents=None,\n",
       "        sublinear_tf=False, token_pattern=None,\n",
       "        tokenizer=<function <lambda> at 0x7f9c0ddce7a0>, use_idf=True,\n",
       "        vocabulary=None)"
      ]
     },
     "execution_count": 11,
     "metadata": {},
     "output_type": "execute_result"
    }
   ],
   "source": [
    "# Build tfidf vectorizer\n",
    "tfidf_vectorizer = TfidfVectorizer(\n",
    "    max_features=10000,\n",
    "    preprocessor=lambda x: x, \n",
    "    tokenizer=lambda x: x, \n",
    "    token_pattern=None,\n",
    "    ngram_range=(1, 3))\n",
    "\n",
    "tfidf_vectorizer.fit(x_train_tokenized)"
   ]
  },
  {
   "cell_type": "markdown",
   "metadata": {},
   "source": [
    "Transform our tokens to tfidf vectors"
   ]
  },
  {
   "cell_type": "code",
   "execution_count": 13,
   "metadata": {},
   "outputs": [],
   "source": [
    "x_train_tfidf = tfidf_vectorizer.transform(\n",
    "    x_train_tokenized)"
   ]
  },
  {
   "cell_type": "markdown",
   "metadata": {},
   "source": [
    "### Train your model: Prediction\n",
    "\n",
    "Finally we want to be able to predict using our model. For this, we'll use a logistic regression classifier:"
   ]
  },
  {
   "cell_type": "code",
   "execution_count": 14,
   "metadata": {},
   "outputs": [
    {
     "data": {
      "text/plain": [
       "LogisticRegression(C=0.1, class_weight=None, dual=False, fit_intercept=True,\n",
       "          intercept_scaling=1, max_iter=100, multi_class='warn',\n",
       "          n_jobs=None, penalty='l2', random_state=None, solver='sag',\n",
       "          tol=0.0001, verbose=0, warm_start=False)"
      ]
     },
     "execution_count": 14,
     "metadata": {},
     "output_type": "execute_result"
    }
   ],
   "source": [
    "# Train logistic regression classifier\n",
    "lr = LogisticRegression(C=0.1, solver='sag')\n",
    "lr.fit(x_train_tfidf, y_train)"
   ]
  },
  {
   "cell_type": "markdown",
   "metadata": {},
   "source": [
    "### Evaluate your model\n",
    "\n",
    "Now that we've trained our model we can test its performance against our test dataset. \n",
    "\n",
    "Let's run a single instance through our classifier first."
   ]
  },
  {
   "cell_type": "code",
   "execution_count": 19,
   "metadata": {},
   "outputs": [
    {
     "name": "stdout",
     "output_type": "stream",
     "text": [
      "['We report theoretical and simulation studies of phase coexistence in model globular protein solutions, based on short-range, central, pair potential representations of the interaction among macro-particles. After reviewing our previous investigations of hard-core Yukawa and generalised Lennard-Jones potentials, we report more recent results obtained within a DLVO-like description of lysozyme solutions in water and added salt. We show that a one-parameter fit of this model based on Static Light Scattering and Self-Interaction Chromatography data in the dilute protein regime, yields demixing and crystallization curves in good agreement with experimental protein-rich/protein-poor and solubility envelopes. The dependence of cloud and solubility points temperature of the model on the ionic strength is also investigated. Our findings highlight the minimal assumptions on the properties of the microscopic interaction sufficient for a satisfactory reproduction of the phase diagram topology of globular protein solutions.']\n",
      "Expected class: [0]\n",
      "Predicted class: [0]\n"
     ]
    }
   ],
   "source": [
    "def predict_fn(x):\n",
    "    x_c = clean_text_transformer.transform(x)\n",
    "    x_s = spacy_tokenizer.transform(x_c)\n",
    "    x_t = tfidf_vectorizer.transform(x_s)\n",
    "    return lr.predict(x_t)\n",
    "\n",
    "print(x_test[0:1])\n",
    "print(f\"Expected class: {y_test[0:1]}\")\n",
    "print(f\"Predicted class: {predict_fn(x_test[0:1])}\")"
   ]
  },
  {
   "cell_type": "markdown",
   "metadata": {},
   "source": [
    "Now to evaluate our model we run all our test dataset and extract predictions, so we can evaluate them."
   ]
  },
  {
   "cell_type": "code",
   "execution_count": 20,
   "metadata": {},
   "outputs": [],
   "source": [
    "pred = predict_fn(x_test)"
   ]
  },
  {
   "cell_type": "markdown",
   "metadata": {},
   "source": [
    "And now we can see the performance of the predictions, which looks good specifically in this toy dataset."
   ]
  },
  {
   "cell_type": "code",
   "execution_count": 116,
   "metadata": {},
   "outputs": [
    {
     "data": {
      "text/plain": [
       "               target\n",
       "precision    0.994898\n",
       "recall       0.975000\n",
       "specificity  0.995000\n",
       "accuracy     0.985000\n",
       "auc          0.985000\n",
       "f1           0.984848"
      ]
     },
     "execution_count": 116,
     "metadata": {},
     "output_type": "execute_result"
    },
    {
     "data": {
      "image/png": "[encoded data removed]",
      "text/plain": [
       "<Figure size 1440x360 with 1 Axes>"
      ]
     },
     "metadata": {
      "needs_background": "light"
     },
     "output_type": "display_data"
    }
   ],
   "source": [
    "xai.metrics_plot(y_test, pred)"
   ]
  },
  {
   "cell_type": "markdown",
   "metadata": {},
   "source": [
    "## 2) Explain your model predictions using Alibi Explain\n",
    "\n",
    "We will now use the Alibi library to explain predictions from the model we've built\n",
    "\n",
    "We start by using our alibi explainer for text, and the Spacy NLP module"
   ]
  },
  {
   "cell_type": "code",
   "execution_count": 25,
   "metadata": {},
   "outputs": [],
   "source": [
    "import spacy\n",
    "import alibi\n",
    "\n",
    "nlp = spacy.load(\"en_core_web_sm\", parser=False, entity=False)"
   ]
  },
  {
   "cell_type": "markdown",
   "metadata": {},
   "source": [
    "In order to create a text explainer, we just have to pass the `predict_fn` that we defined above, as it will reverse engineer the explanations"
   ]
  },
  {
   "cell_type": "code",
   "execution_count": 29,
   "metadata": {},
   "outputs": [],
   "source": [
    "explainer = alibi.explainers.AnchorText(nlp, predict_fn)"
   ]
  },
  {
   "cell_type": "markdown",
   "metadata": {},
   "source": [
    "Now we select a prediction which we will want to explain, in this case we select the index `1` from our test dataset"
   ]
  },
  {
   "cell_type": "code",
   "execution_count": 30,
   "metadata": {},
   "outputs": [
    {
     "data": {
      "text/plain": [
       "'The modifiable areal unit problem, MAUP, is ever-present although not always appreciated. Through real examples, this article outlines the basic causes of MAUP, namely changes in the size, shape, and/or orientation of spatial categories/polygons used to map areal data. The visual effects of changes to mapped data are obvious even though the impacts on our understanding of the world are profound. The article concludes with a discussion of technical and broader strategic approaches for confronting the effects of MAUP on our treatment and interpretation of areal data.'"
      ]
     },
     "execution_count": 30,
     "metadata": {},
     "output_type": "execute_result"
    }
   ],
   "source": [
    "x_explain = x_test[1]\n",
    "x_explain"
   ]
  },
  {
   "cell_type": "markdown",
   "metadata": {},
   "source": [
    "And we simply send the prediction request into our explainer, which should take about 10-30 seconds."
   ]
  },
  {
   "cell_type": "code",
   "execution_count": 31,
   "metadata": {},
   "outputs": [],
   "source": [
    "explanation = explainer.explain(x_explain, threshold=0.95, use_unk=True)"
   ]
  },
  {
   "cell_type": "markdown",
   "metadata": {},
   "source": [
    "Finally we can print our explanations, which in this case it will tell us the tokens that had the strongest predictive power"
   ]
  },
  {
   "cell_type": "code",
   "execution_count": 32,
   "metadata": {},
   "outputs": [
    {
     "name": "stdout",
     "output_type": "stream",
     "text": [
      "Anchor: real\n",
      "Precision: 0.97\n",
      "\n",
      "Original Sample:\n",
      "The modifiable areal unit problem, MAUP, is ever-present although not always appreciated. Through real examples, this article outlines the basic causes of MAUP, namely changes in the size, shape, and/or orientation of spatial categories/polygons used to map areal data. The visual effects of changes to mapped data are obvious even though the impacts on our understanding of the world are profound. The article concludes with a discussion of technical and broader strategic approaches for confronting the effects of MAUP on our treatment and interpretation of areal data.\n",
      "\n",
      "First Example where anchor applies and model predicts is_covid==True\n",
      "\n",
      "___ modifiable areal unit ___ , ___ ___ ___ ever - present ___ ___ always ___ . Through real ___ ___ this ___ ___ ___ ___ ___ ___ ___ , namely ___ in the ___ ___ ___ ___ ___ ___ of spatial ___ / ___ used ___ ___ areal data ___ The ___ ___ ___ ___ ___ mapped data are obvious even ___ the impacts ___ our understanding ___ the ___ ___ ___ ___ The ___ concludes with ___ ___ ___ ___ and broader ___ ___ for confronting ___ ___ of MAUP on ___ ___ ___ ___ ___ ___ ___ ___\n",
      "\n",
      "\n",
      "Example where anchor applies and model predicts is_covid==False\n",
      "\n",
      "___ modifiable ___ unit ___ ___ MAUP ___ is ever - ___ although ___ ___ appreciated . ___ real ___ , this article outlines ___ basic ___ of MAUP ___ namely changes in the ___ , ___ , and/or orientation of ___ categories ___ polygons used ___ ___ ___ ___ ___ ___ ___ ___ of changes to ___ data are ___ ___ ___ ___ ___ ___ our ___ ___ the ___ ___ profound ___ The article concludes with a discussion of technical ___ broader strategic ___ for confronting the effects of ___ on ___ treatment and ___ ___ ___ ___ ___\n"
     ]
    }
   ],
   "source": [
    "print('Anchor: %s' % (' AND '.join(explanation.anchor)))\n",
    "print('Precision: %.2f' % explanation.precision)\n",
    "print(f\"\\nOriginal Sample:\\n{x_explain}\")\n",
    "print('\\nFirst Example where anchor applies and model predicts is_covid==True')\n",
    "print(f\"\\n{explanation.raw['examples'][-1]['covered_true'][0]}\".replace(\"UNK\", \"___\"))\n",
    "print('\\n\\nExample where anchor applies and model predicts is_covid==False')\n",
    "print(f\"\\n{explanation.raw['examples'][-1]['covered_false'][0]}\".replace(\"UNK\", \"___\"))"
   ]
  },
  {
   "cell_type": "markdown",
   "metadata": {},
   "source": [
    "## 3) Build your containerized model"
   ]
  },
  {
   "cell_type": "markdown",
   "metadata": {},
   "source": [
    "Now that we have trained our model, and we know how to use the Alibi explainability library, we can actually deploy these models.\n",
    "\n",
    "### First use Seldon Core to containerise the model\n",
    "\n",
    "To get started we will use Seldon to Containerise the model, for this we will export the models we trained above into the current folder"
   ]
  },
  {
   "cell_type": "code",
   "execution_count": 33,
   "metadata": {},
   "outputs": [],
   "source": [
    "# These are the models we'll deploy\n",
    "with open('tfidf_vectorizer.model', 'wb') as model_file:\n",
    "    dill.dump(tfidf_vectorizer, model_file)\n",
    "with open('lr.model', 'wb') as model_file:\n",
    "    dill.dump(lr, model_file)"
   ]
  },
  {
   "cell_type": "markdown",
   "metadata": {},
   "source": [
    "The way Seldon Core works from there, is that we need to build a Python Wrapper that exposes the functionality through the `predict` method.\n",
    "\n",
    "We define a file below called `ResearchClassifier.py` which loads the models we exported and then uses them for any predictions.\n",
    "\n",
    "Seldon Core will then convert this file into a fully fledged microservice."
   ]
  },
  {
   "cell_type": "code",
   "execution_count": 34,
   "metadata": {},
   "outputs": [
    {
     "name": "stdout",
     "output_type": "stream",
     "text": [
      "Overwriting ResearchClassifier.py\n"
     ]
    }
   ],
   "source": [
    "%%writefile ResearchClassifier.py\n",
    "\n",
    "import dill\n",
    "\n",
    "from ml_utils import CleanTextTransformer, SpacyTokenTransformer\n",
    "\n",
    "class ResearchClassifier(object):\n",
    "    def __init__(self):\n",
    "        \n",
    "        self._clean_text_transformer = CleanTextTransformer()\n",
    "        self._spacy_tokenizer = SpacyTokenTransformer()\n",
    "        \n",
    "        with open('tfidf_vectorizer.model', 'rb') as model_file:\n",
    "            self._tfidf_vectorizer = dill.load(model_file)\n",
    "           \n",
    "        with open('lr.model', 'rb') as model_file:\n",
    "            self._lr_model = dill.load(model_file)\n",
    "\n",
    "    def predict(self, X, feature_names):\n",
    "        clean_text = self._clean_text_transformer.transform(X)\n",
    "        spacy_tokens = self._spacy_tokenizer.transform(clean_text)\n",
    "        tfidf_features = self._tfidf_vectorizer.transform(spacy_tokens)\n",
    "        predictions = self._lr_model.predict_proba(tfidf_features)\n",
    "        return predictions\n",
    "\n"
   ]
  },
  {
   "cell_type": "markdown",
   "metadata": {},
   "source": [
    "Before we containerise this Python wrapper, we can test it to make sure it predicts as expected:"
   ]
  },
  {
   "cell_type": "code",
   "execution_count": 36,
   "metadata": {},
   "outputs": [
    {
     "name": "stdout",
     "output_type": "stream",
     "text": [
      "Input data: ['The modifiable areal unit problem, MAUP, is ever-present although not always appreciated. Through real examples, this article outlines the basic causes of MAUP, namely changes in the size, shape, and/or orientation of spatial categories/polygons used to map areal data. The visual effects of changes to mapped data are obvious even though the impacts on our understanding of the world are profound. The article concludes with a discussion of technical and broader strategic approaches for confronting the effects of MAUP on our treatment and interpretation of areal data.']\n",
      "Predicted probabilities for each class: [[0.55033599 0.44966401]]\n",
      "Actual class: [1]\n"
     ]
    }
   ],
   "source": [
    "from ResearchClassifier import ResearchClassifier\n",
    "\n",
    "sample = x_test[1:2]\n",
    "\n",
    "print(f\"Input data: {sample}\")\n",
    "print(f\"Predicted probabilities for each class: {ResearchClassifier().predict(sample, ['feature_name'])}\")\n",
    "print(f\"Actual class: {y_test[1:2]}\")"
   ]
  },
  {
   "cell_type": "markdown",
   "metadata": {},
   "source": [
    "### Create Docker Image with the S2i utility\n",
    "\n",
    "Now using the S2I command line interface we wrap our current model to seve it through the Seldon interface\n",
    "\n",
    "We will need to first define the dependencies that we use in our wrapper into a `requirements.txt` file below:"
   ]
  },
  {
   "cell_type": "code",
   "execution_count": 42,
   "metadata": {},
   "outputs": [
    {
     "name": "stdout",
     "output_type": "stream",
     "text": [
      "Overwriting requirements.txt\n"
     ]
    }
   ],
   "source": [
    "%%writefile requirements.txt\n",
    "scipy>= 0.13.3\n",
    "scikit-learn>=0.18\n",
    "spacy==2.0.18\n",
    "dill==0.2.9"
   ]
  },
  {
   "cell_type": "markdown",
   "metadata": {},
   "source": [
    "We then have to define the environment variables required by Seldon, such as the name of your model file"
   ]
  },
  {
   "cell_type": "code",
   "execution_count": 43,
   "metadata": {},
   "outputs": [
    {
     "name": "stdout",
     "output_type": "stream",
     "text": [
      "Overwriting .s2i/environment\n"
     ]
    }
   ],
   "source": [
    "%%writefile .s2i/environment\n",
    "\n",
    "MODEL_NAME=ResearchClassifier\n",
    "API_TYPE=REST\n",
    "SERVICE_TYPE=MODEL\n",
    "PERSISTENCE=0"
   ]
  },
  {
   "cell_type": "markdown",
   "metadata": {},
   "source": [
    "And now that everything is configured, we can build the `research-classifier:0.1` image using the Seldon Command below - it will take some time depending on internet as it will need to download the docker image, and all the relevant dependencies."
   ]
  },
  {
   "cell_type": "code",
   "execution_count": null,
   "metadata": {
    "scrolled": true
   },
   "outputs": [],
   "source": [
    "!s2i build . seldonio/seldon-core-s2i-python3:0.18 research-classifier:0.1"
   ]
  },
  {
   "cell_type": "markdown",
   "metadata": {},
   "source": [
    "### Test your model as a docker container"
   ]
  },
  {
   "cell_type": "code",
   "execution_count": 48,
   "metadata": {},
   "outputs": [
    {
     "name": "stdout",
     "output_type": "stream",
     "text": [
      "Error: No such container: research_predictor\r\n"
     ]
    }
   ],
   "source": [
    "# Remove previously deployed containers for this model\n",
    "!docker rm -f research_predictor"
   ]
  },
  {
   "cell_type": "code",
   "execution_count": 49,
   "metadata": {},
   "outputs": [
    {
     "name": "stdout",
     "output_type": "stream",
     "text": [
      "17d7c5cbe0bedd3bc5e6db9314ea27d4c901e50d8084531a3f7db96973a24a4b\r\n"
     ]
    }
   ],
   "source": [
    "!docker run --name \"research_predictor\" -d --rm -p 5001:5000 research-classifier:0.1"
   ]
  },
  {
   "cell_type": "markdown",
   "metadata": {},
   "source": [
    "### Make sure you wait for language model\n",
    "SpaCy will download the English language model, so you have to make sure the container finishes downloading it before it can be used. You can view this by running the logs until you see \"Linking successful\"."
   ]
  },
  {
   "cell_type": "code",
   "execution_count": 51,
   "metadata": {
    "scrolled": true
   },
   "outputs": [
    {
     "name": "stdout",
     "output_type": "stream",
     "text": [
      "2020-03-27T06:42:15.300402971Z starting microservice\r\n",
      "2020-03-27T06:42:16.226289081Z 2020-03-27 06:42:16,225 - seldon_core.microservice:main:190 - INFO:  Starting microservice.py:main\r\n",
      "2020-03-27T06:42:16.227528306Z 2020-03-27 06:42:16,227 - seldon_core.microservice:main:246 - INFO:  Parse JAEGER_EXTRA_TAGS []\r\n",
      "2020-03-27T06:42:16.227623964Z 2020-03-27 06:42:16,227 - seldon_core.microservice:main:257 - INFO:  Annotations: {}\r\n",
      "2020-03-27T06:42:16.227703697Z 2020-03-27 06:42:16,227 - seldon_core.microservice:main:261 - INFO:  Importing ResearchClassifier\r\n",
      "2020-03-27T06:42:17.708431542Z Collecting en_core_web_sm==2.0.0 from https://github.com/explosion/spacy-models/releases/download/en_core_web_sm-2.0.0/en_core_web_sm-2.0.0.tar.gz#egg=en_core_web_sm==2.0.0\r\n",
      "2020-03-27T06:42:18.766598177Z   Downloading https://github.com/explosion/spacy-models/releases/download/en_core_web_sm-2.0.0/en_core_web_sm-2.0.0.tar.gz (37.4MB)\r\n",
      "2020-03-27T06:42:27.056778358Z Building wheels for collected packages: en-core-web-sm\r\n",
      "2020-03-27T06:42:27.057336058Z   Building wheel for en-core-web-sm (setup.py): started\r\n",
      "2020-03-27T06:42:29.508276329Z   Building wheel for en-core-web-sm (setup.py): finished with status 'done'\r\n",
      "2020-03-27T06:42:29.603323879Z   Created wheel for en-core-web-sm: filename=en_core_web_sm-2.0.0-cp37-none-any.whl size=37405978 sha256=f70bd20f4ab4f5557c58d319986f4742e89fa27e018546c20667b6680e2dacc5\r\n",
      "2020-03-27T06:42:29.603362554Z   Stored in directory: /tmp/pip-ephem-wheel-cache-qykoogkg/wheels/54/7c/d8/f86364af8fbba7258e14adae115f18dd2c91552406edc3fdaa\r\n",
      "2020-03-27T06:42:29.985450322Z Successfully built en-core-web-sm\r\n",
      "2020-03-27T06:42:29.985630047Z Installing collected packages: en-core-web-sm\r\n",
      "2020-03-27T06:42:30.064010513Z Successfully installed en-core-web-sm-2.0.0\r\n",
      "2020-03-27T06:42:31.268714990Z /opt/conda/lib/python3.7/site-packages/sklearn/base.py:318: UserWarning: Trying to unpickle estimator TfidfTransformer from version 0.20.1 when using version 0.22.2.post1. This might lead to breaking code or invalid results. Use at your own risk.\r\n",
      "2020-03-27T06:42:31.268758107Z   UserWarning)\r\n",
      "2020-03-27T06:42:31.268761465Z /opt/conda/lib/python3.7/site-packages/sklearn/base.py:318: UserWarning: Trying to unpickle estimator TfidfVectorizer from version 0.20.1 when using version 0.22.2.post1. This might lead to breaking code or invalid results. Use at your own risk.\r\n",
      "2020-03-27T06:42:31.268764174Z   UserWarning)\r\n",
      "2020-03-27T06:42:31.268766882Z /opt/conda/lib/python3.7/site-packages/sklearn/utils/deprecation.py:144: FutureWarning: The sklearn.linear_model.logistic module is  deprecated in version 0.22 and will be removed in version 0.24. The corresponding classes / functions should instead be imported from sklearn.linear_model. Anything that cannot be imported from sklearn.linear_model is now part of the private API.\r\n",
      "2020-03-27T06:42:31.268772624Z   warnings.warn(message, FutureWarning)\r\n",
      "2020-03-27T06:42:31.268775115Z /opt/conda/lib/python3.7/site-packages/sklearn/base.py:318: UserWarning: Trying to unpickle estimator LogisticRegression from version 0.20.1 when using version 0.22.2.post1. This might lead to breaking code or invalid results. Use at your own risk.\r\n",
      "2020-03-27T06:42:31.268777824Z   UserWarning)\r\n",
      "2020-03-27T06:42:31.268792665Z 2020-03-27 06:42:31,268 - seldon_core.microservice:main:325 - INFO:  REST microservice running on port 5000\r\n",
      "2020-03-27T06:42:31.268795265Z 2020-03-27 06:42:31,268 - seldon_core.microservice:main:369 - INFO:  Starting servers\r\n",
      "2020-03-27T06:42:31.269566599Z \r\n",
      "2020-03-27T06:42:31.269580140Z \u001b[93m    Linking successful\u001b[0m\r\n",
      "2020-03-27T06:42:31.269583282Z     /opt/conda/lib/python3.7/site-packages/en_core_web_sm -->\r\n",
      "2020-03-27T06:42:31.269585449Z     /opt/conda/lib/python3.7/site-packages/spacy/data/en_core_web_sm\r\n",
      "2020-03-27T06:42:31.269587507Z \r\n",
      "2020-03-27T06:42:31.269589349Z     You can now load the model via spacy.load('en_core_web_sm')\r\n",
      "2020-03-27T06:42:31.269591515Z \r\n",
      "2020-03-27T06:42:31.287201857Z  * Serving Flask app \"seldon_core.wrapper\" (lazy loading)\r\n",
      "2020-03-27T06:42:31.287236307Z  * Environment: production\r\n",
      "2020-03-27T06:42:31.287239340Z    WARNING: This is a development server. Do not use it in a production deployment.\r\n",
      "2020-03-27T06:42:31.287241724Z    Use a production WSGI server instead.\r\n",
      "2020-03-27T06:42:31.287243890Z  * Debug mode: off\r\n",
      "2020-03-27T06:42:31.287955315Z 2020-03-27 06:42:31,287 - werkzeug:_log:113 - INFO:   * Running on http://0.0.0.0:5000/ (Press CTRL+C to quit)\r\n"
     ]
    }
   ],
   "source": [
    "# Here we need to wait until we see \"Linking successful\", as it's downloading the Spacy English model\n",
    "# You can hit stop when this happens\n",
    "!docker logs -t research_predictor"
   ]
  },
  {
   "cell_type": "markdown",
   "metadata": {},
   "source": [
    "Now that it's running we can send a request to see the output. We will see that the response is basically the output of the model that we just trained, but it's now exposed through a fully fledged REST API."
   ]
  },
  {
   "cell_type": "code",
   "execution_count": 52,
   "metadata": {
    "scrolled": true
   },
   "outputs": [
    {
     "name": "stdout",
     "output_type": "stream",
     "text": [
      "Success:True message:\n",
      "Request:\n",
      "data {\n",
      "  names: \"tfidf\"\n",
      "  ndarray {\n",
      "    values {\n",
      "      string_value: \"The modifiable areal unit problem, MAUP, is ever-present although not always appreciated. Through real examples, this article outlines the basic causes of MAUP, namely changes in the size, shape, and/or orientation of spatial categories/polygons used to map areal data. The visual effects of changes to mapped data are obvious even though the impacts on our understanding of the world are profound. The article concludes with a discussion of technical and broader strategic approaches for confronting the effects of MAUP on our treatment and interpretation of areal data.\"\n",
      "    }\n",
      "  }\n",
      "}\n",
      "\n",
      "Response:\n",
      "meta {\n",
      "}\n",
      "data {\n",
      "  names: \"t:0\"\n",
      "  names: \"t:1\"\n",
      "  ndarray {\n",
      "    values {\n",
      "      list_value {\n",
      "        values {\n",
      "          number_value: 0.550335993635677\n",
      "        }\n",
      "        values {\n",
      "          number_value: 0.449664006364323\n",
      "        }\n",
      "      }\n",
      "    }\n",
      "  }\n",
      "}\n",
      "\n"
     ]
    }
   ],
   "source": [
    "# We now test the REST endpoint expecting the same result\n",
    "endpoint = \"0.0.0.0:5001\"\n",
    "batch = sample\n",
    "payload_type = \"ndarray\"\n",
    "\n",
    "sc = SeldonClient(microservice_endpoint=endpoint)\n",
    "response = sc.microservice(\n",
    "    data=batch,\n",
    "    method=\"predict\",\n",
    "    payload_type=payload_type,\n",
    "    names=[\"tfidf\"])\n",
    "\n",
    "print(response)"
   ]
  },
  {
   "cell_type": "markdown",
   "metadata": {},
   "source": [
    "Before we move to the next step and run our model in a Kubernetes cluster we can stop the docker container."
   ]
  },
  {
   "cell_type": "code",
   "execution_count": 53,
   "metadata": {},
   "outputs": [
    {
     "name": "stdout",
     "output_type": "stream",
     "text": [
      "research_predictor\r\n"
     ]
    }
   ],
   "source": [
    "# We now stop it to run it in docker\n",
    "!docker stop research_predictor"
   ]
  },
  {
   "cell_type": "markdown",
   "metadata": {},
   "source": [
    "## 4) Run Seldon in your kubernetes cluster\n",
    "\n",
    "In order to deploy our model to Kubernetes, we just need to define a simple deployment configuration file.\n",
    "\n",
    "This configuration file basically points to the container that we just built above, so make sure the Kubernetes cluster has access to the container (you may need to push the image into your docker repo)."
   ]
  },
  {
   "cell_type": "code",
   "execution_count": 141,
   "metadata": {
    "scrolled": true
   },
   "outputs": [
    {
     "name": "stdout",
     "output_type": "stream",
     "text": [
      "Overwriting research-deployment.yaml\n"
     ]
    }
   ],
   "source": [
    "%%writefile research-deployment.yaml\n",
    "---\n",
    "apiVersion: machinelearning.seldon.io/v1\n",
    "kind: SeldonDeployment\n",
    "metadata:\n",
    "  name: research-deployment\n",
    "spec:\n",
    "  predictors:\n",
    "  - componentSpecs:\n",
    "    - spec:\n",
    "        containers:\n",
    "        - image: research-classifier:0.1\n",
    "          imagePullPolicy: IfNotPresent\n",
    "          name: research-model\n",
    "    graph:\n",
    "      children: []\n",
    "      name: research-model\n",
    "      endpoint:\n",
    "        type: REST\n",
    "      type: MODEL\n",
    "    name: default\n",
    "    replicas: 1\n"
   ]
  },
  {
   "cell_type": "markdown",
   "metadata": {},
   "source": [
    "Now we can apply this SeldonDeployment into our Kubernetes cluster"
   ]
  },
  {
   "cell_type": "code",
   "execution_count": 55,
   "metadata": {},
   "outputs": [
    {
     "name": "stdout",
     "output_type": "stream",
     "text": [
      "seldondeployment.machinelearning.seldon.io/research-deployment created\r\n"
     ]
    }
   ],
   "source": [
    "!kubectl apply -f research-deployment.yaml"
   ]
  },
  {
   "cell_type": "markdown",
   "metadata": {},
   "source": [
    "And we can make sure that our model is actually running as expected"
   ]
  },
  {
   "cell_type": "code",
   "execution_count": 57,
   "metadata": {},
   "outputs": [
    {
     "name": "stdout",
     "output_type": "stream",
     "text": [
      "research-deployment-research-pred-0-65f7646d9c-s6bnr              2/2     Running     0          54s\r\n"
     ]
    }
   ],
   "source": [
    "!kubectl get pods | grep research"
   ]
  },
  {
   "cell_type": "markdown",
   "metadata": {},
   "source": [
    "## 5) Send requests to our deployed model\n",
    "\n",
    "Now that our Seldon Deployment is live, we are able to interact with it through its API.\n",
    "\n",
    "There are two options in which we can interact with our new model. These are:\n",
    "\n",
    "a) Using CURL from the CLI (or another rest client like Postman)\n",
    "\n",
    "b) Using the Python SeldonClient\n",
    "\n",
    "#### a) Using CURL from the CLI\n",
    "\n",
    "We can actually send a simple request and see what the prediction is, in the case below the prediction is positive for COVID"
   ]
  },
  {
   "cell_type": "code",
   "execution_count": 105,
   "metadata": {},
   "outputs": [
    {
     "name": "stdout",
     "output_type": "stream",
     "text": [
      "{\"data\":{\"names\":[\"t:0\",\"t:1\"],\"ndarray\":[[0.3729505481093134,0.6270494518906866]]},\"meta\":{}}\n"
     ]
    },
    {
     "name": "stderr",
     "output_type": "stream",
     "text": [
      "  % Total    % Received % Xferd  Average Speed   Time    Time     Time  Current\n",
      "                                 Dload  Upload   Total   Spent    Left  Speed\n",
      "\r",
      "  0     0    0     0    0     0      0      0 --:--:-- --:--:-- --:--:--     0\r",
      "100   188  100    95  100    93   7916   7750 --:--:-- --:--:-- --:--:-- 15666\n"
     ]
    }
   ],
   "source": [
    "%%bash\n",
    "curl -X POST -H 'Content-Type: application/json' \\\n",
    "    -d '{\"data\": {\"names\": [\"text\"], \"ndarray\": [\"This paper is about virus and spread of disease\"]}}' \\\n",
    "    http://localhost/seldon/default/research-deployment/api/v1.0/predictions"
   ]
  },
  {
   "cell_type": "markdown",
   "metadata": {},
   "source": [
    "#### b) Using the Python SeldonClient"
   ]
  },
  {
   "cell_type": "code",
   "execution_count": 67,
   "metadata": {},
   "outputs": [
    {
     "name": "stdout",
     "output_type": "stream",
     "text": [
      "Success:True message:\n",
      "Request:\n",
      "meta {\n",
      "}\n",
      "data {\n",
      "  names: \"text\"\n",
      "  ndarray {\n",
      "    values {\n",
      "      string_value: \"This paper is about virus and spread of disease\"\n",
      "    }\n",
      "  }\n",
      "}\n",
      "\n",
      "Response:\n",
      "meta {\n",
      "}\n",
      "data {\n",
      "  names: \"t:0\"\n",
      "  names: \"t:1\"\n",
      "  ndarray {\n",
      "    values {\n",
      "      list_value {\n",
      "        values {\n",
      "          number_value: 0.3729505481093134\n",
      "        }\n",
      "        values {\n",
      "          number_value: 0.6270494518906866\n",
      "        }\n",
      "      }\n",
      "    }\n",
      "  }\n",
      "}\n",
      "\n"
     ]
    }
   ],
   "source": [
    "from seldon_core.seldon_client import SeldonClient\n",
    "import numpy as np\n",
    "\n",
    "host = \"localhost\"\n",
    "port = \"80\" # Make sure you use the port above\n",
    "batch = np.array([\"This paper is about virus and spread of disease\"])\n",
    "payload_type = \"ndarray\"\n",
    "deployment_name=\"research-deployment\"\n",
    "transport=\"rest\"\n",
    "namespace=\"default\"\n",
    "\n",
    "sc = SeldonClient(\n",
    "    gateway=\"ambassador\", \n",
    "    gateway_endpoint=host + \":\" + port,\n",
    "    namespace=namespace)\n",
    "\n",
    "client_prediction = sc.predict(\n",
    "    data=batch, \n",
    "    deployment_name=deployment_name,\n",
    "    names=[\"text\"],\n",
    "    payload_type=payload_type,\n",
    "    transport=\"rest\")\n",
    "\n",
    "print(client_prediction)"
   ]
  },
  {
   "cell_type": "markdown",
   "metadata": {},
   "source": [
    "## 6) Deploy a text explainer\n",
    "\n",
    "Now that we have deployed our model, we can also deploy the explainer that we showed above.\n",
    "\n",
    "Fortunately, Seldon Core already supports several out of the box explainers, including a generic text explainer.\n",
    "\n",
    "Because of this, we will be able to just modify the existing deployment file to specify we want to add a text explainer"
   ]
  },
  {
   "cell_type": "code",
   "execution_count": 201,
   "metadata": {},
   "outputs": [
    {
     "name": "stdout",
     "output_type": "stream",
     "text": [
      "Overwriting research-deployment-with-explainer.yaml\n"
     ]
    }
   ],
   "source": [
    "%%writefile research-deployment-with-explainer.yaml\n",
    "---\n",
    "apiVersion: machinelearning.seldon.io/v1\n",
    "kind: SeldonDeployment\n",
    "metadata:\n",
    "  name: research-deployment\n",
    "spec:\n",
    "  predictors:\n",
    "  - componentSpecs:\n",
    "    - spec:\n",
    "        containers:\n",
    "        - image: research-classifier:0.1\n",
    "          imagePullPolicy: IfNotPresent\n",
    "          name: research-model\n",
    "    graph:\n",
    "      children: []\n",
    "      name: research-model\n",
    "      endpoint:\n",
    "        type: REST\n",
    "      type: MODEL\n",
    "    explainer:\n",
    "      type: AnchorText\n",
    "    name: default\n",
    "    replicas: 1"
   ]
  },
  {
   "cell_type": "markdown",
   "metadata": {},
   "source": [
    "As you can see we defined a new section with the name `explainer:`, and we provided the type as `AnchorText`.\n",
    "\n",
    "This will ensure that we deploy our model together with an explainer of type AnchorText which is what we used above."
   ]
  },
  {
   "cell_type": "code",
   "execution_count": 202,
   "metadata": {},
   "outputs": [
    {
     "name": "stdout",
     "output_type": "stream",
     "text": [
      "seldondeployment.machinelearning.seldon.io/research-deployment created\r\n"
     ]
    }
   ],
   "source": [
    "!kubectl apply -f research-deployment-with-explainer.yaml"
   ]
  },
  {
   "cell_type": "markdown",
   "metadata": {},
   "source": [
    "We can now wait until our new predictor explainer is deployed, and all the routes are created"
   ]
  },
  {
   "cell_type": "code",
   "execution_count": 208,
   "metadata": {},
   "outputs": [
    {
     "name": "stdout",
     "output_type": "stream",
     "text": [
      "research-deployment-default-0-research-model-86f486b5bd-x6vq5   2/2     Running     0          14m\r\n",
      "research-deployment-default-explainer-5b87f8c744-6bj7q          1/1     Running     1          14m\r\n"
     ]
    }
   ],
   "source": [
    "!kubectl get pods | grep research"
   ]
  },
  {
   "cell_type": "markdown",
   "metadata": {},
   "source": [
    "## 7) Send requests to our deployed explainer\n",
    "\n",
    "Now that our Explainer is live, we are able to interact with it through its API.\n",
    "\n",
    "The explainer will be interacting with the model to reverse engineer the predictions."
   ]
  },
  {
   "cell_type": "code",
   "execution_count": 207,
   "metadata": {},
   "outputs": [
    {
     "name": "stdout",
     "output_type": "stream",
     "text": [
      "{\n",
      "   \"coverage\" : 0.4993,\n",
      "   \"meta\" : {\n",
      "      \"name\" : \"AnchorText\"\n",
      "   },\n",
      "   \"precision\" : 1,\n",
      "   \"raw\" : {\n",
      "      \"num_preds\" : 1000001,\n",
      "      \"positions\" : [\n",
      "         40\n",
      "      ],\n",
      "      \"names\" : [\n",
      "         \"disease\"\n",
      "      ],\n",
      "      \"precision\" : [\n",
      "         1\n",
      "      ],\n",
      "      \"prediction\" : 1,\n",
      "      \"examples\" : [\n",
      "         {\n",
      "            \"covered_true\" : [\n",
      "               [\n",
      "                  \"UNK paper is about virus UNK spread UNK disease\"\n",
      "               ],\n",
      "               [\n",
      "                  \"UNK paper UNK about UNK UNK UNK UNK disease\"\n",
      "               ],\n",
      "               [\n",
      "                  \"This paper is UNK UNK and UNK UNK disease\"\n",
      "               ],\n",
      "               [\n",
      "                  \"UNK paper is UNK UNK and UNK UNK disease\"\n",
      "               ],\n",
      "               [\n",
      "                  \"UNK paper is about UNK UNK spread UNK disease\"\n",
      "               ],\n",
      "               [\n",
      "                  \"UNK UNK is UNK UNK UNK spread of disease\"\n",
      "               ],\n",
      "               [\n",
      "                  \"This paper UNK UNK UNK and UNK UNK disease\"\n",
      "               ],\n",
      "               [\n",
      "                  \"UNK UNK is about UNK UNK UNK UNK disease\"\n",
      "               ],\n",
      "               [\n",
      "                  \"This UNK is about virus and spread UNK disease\"\n",
      "               ],\n",
      "               [\n",
      "                  \"UNK UNK UNK about UNK UNK spread of disease\"\n",
      "               ]\n",
      "            ],\n",
      "            \"uncovered_false\" : [],\n",
      "            \"covered\" : [\n",
      "               [\n",
      "                  \"This paper UNK about UNK UNK spread UNK disease\"\n",
      "               ],\n",
      "               [\n",
      "                  \"UNK UNK is UNK UNK UNK spread of disease\"\n",
      "               ],\n",
      "               [\n",
      "                  \"UNK UNK UNK UNK UNK UNK spread UNK disease\"\n",
      "               ],\n",
      "               [\n",
      "                  \"UNK paper UNK about virus UNK UNK of disease\"\n",
      "               ],\n",
      "               [\n",
      "                  \"UNK paper UNK about virus and UNK of disease\"\n",
      "               ],\n",
      "               [\n",
      "                  \"UNK UNK is about UNK UNK UNK UNK disease\"\n",
      "               ],\n",
      "               [\n",
      "                  \"This paper UNK about UNK UNK spread of disease\"\n",
      "               ],\n",
      "               [\n",
      "                  \"This UNK is UNK UNK UNK spread UNK disease\"\n",
      "               ],\n",
      "               [\n",
      "                  \"This paper is about virus and spread UNK disease\"\n",
      "               ],\n",
      "               [\n",
      "                  \"This paper is about UNK and spread UNK disease\"\n",
      "               ]\n",
      "            ],\n",
      "            \"uncovered_true\" : [],\n",
      "            \"covered_false\" : []\n",
      "         }\n",
      "      ],\n",
      "      \"instance\" : \"This paper is about virus and spread of disease\",\n",
      "      \"coverage\" : [\n",
      "         0.4993\n",
      "      ],\n",
      "      \"mean\" : [\n",
      "         1\n",
      "      ],\n",
      "      \"feature\" : [\n",
      "         8\n",
      "      ],\n",
      "      \"all_precision\" : 0\n",
      "   },\n",
      "   \"names\" : [\n",
      "      \"disease\"\n",
      "   ]\n",
      "}\n"
     ]
    },
    {
     "name": "stderr",
     "output_type": "stream",
     "text": [
      "  % Total    % Received % Xferd  Average Speed   Time    Time     Time  Current\n",
      "                                 Dload  Upload   Total   Spent    Left  Speed\n",
      "\r",
      "  0     0    0     0    0     0      0      0 --:--:-- --:--:-- --:--:--     0\r",
      "100  1529  100  1436  100    93   1447     93  0:00:01 --:--:--  0:00:01  1541\r",
      "100  1529  100  1436  100    93   1447     93  0:00:01 --:--:--  0:00:01  1539\n"
     ]
    }
   ],
   "source": [
    "%%bash\n",
    "curl -X POST -H 'Content-Type: application/json' \\\n",
    "    -d '{\"data\": {\"names\": [\"text\"], \"ndarray\": [\"This paper is about virus and spread of disease\"]}}' \\\n",
    "    http://localhost:80/seldon/default/research-deployment/default/explainer/api/v1.0/explain | json_pp"
   ]
  },
  {
   "cell_type": "code",
   "execution_count": null,
   "metadata": {},
   "outputs": [],
   "source": []
  }
 ],
 "metadata": {
  "kernelspec": {
   "display_name": "Python 3",
   "language": "python",
   "name": "python3"
  },
  "language_info": {
   "codemirror_mode": {
    "name": "ipython",
    "version": 3
   },
   "file_extension": ".py",
   "mimetype": "text/x-python",
   "name": "python",
   "nbconvert_exporter": "python",
   "pygments_lexer": "ipython3",
   "version": "3.7.4"
  }
 },
 "nbformat": 4,
 "nbformat_minor": 2
}
